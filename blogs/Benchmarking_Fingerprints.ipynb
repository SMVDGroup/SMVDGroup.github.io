{
 "cells": [
  {
   "cell_type": "markdown",
   "metadata": {},
   "source": [
    "# Speedtesting Chemical Fingerprints\n",
    "\n",
    "Chemical fingerprints are a method of representing chemical compounds as bit vectors. As such, they are extremely useful for machine learning approaches to cheminformatics and drug discovery. Many fingerprinting methods have been investigated and published, with pros and cons which I'm looking forward to discussing in another blog. However, the purpose of article is a simple speedtest to determine the most efficient fingerprinting method. Benchmarking this was inspired by a recent pre-processing step in a current project where we needed to represent a dataset of over 2 million ligands as fingerprints; obviously here, speed was a key consideration. In the end, we pivoted from a fingerprinting approach to a scaffolding approach to examine molecule substructures. This doubled as a performance increase, and an easy way to group similar molecules without having to think about avoid an exhaustive (and unfeasible) $2,000,000^2$ similarity comparison."
   ]
  },
  {
   "cell_type": "markdown",
   "metadata": {},
   "source": [
    "### Fingerprinting Options\n",
    "\n",
    "In this benchmark we're just going to look at the options provided by the fantastic open-source cheminformatics tool RDKit. From the documentation, they offer 7 different built-in fingerprinting approaches:"
   ]
  },
  {
   "cell_type": "markdown",
   "metadata": {},
   "source": [
    "|Fingerprint|\n",
    "|-----------|\n",
    "|RDKit|\n",
    "|Atom Pairs|\n",
    "|Topological Torsions|\n",
    "|MACCS keys|\n",
    "|Morgan/Circular|\n",
    "|Pattern|\n",
    "|Extended Reduced Graphs|"
   ]
  },
  {
   "cell_type": "markdown",
   "metadata": {},
   "source": [
    "# Benchmark dataset\n",
    "\n",
    "To get a fair estimate of the speed of generating these fingerprints, we need a dataset of small molecule compounds to use as a benchmark. In this case, we downloaded the ChEMBL database (2,136,187 molecules) and sampled 5000 molecules using the following python code:"
   ]
  },
  {
   "cell_type": "code",
   "execution_count": 4,
   "metadata": {},
   "outputs": [],
   "source": [
    "import time\n",
    "import random\n",
    "from rdkit import Chem\n",
    "\n",
    "benchmark_molecules = list()\n",
    "\n",
    "# load the molecules as a generator object\n",
    "chembl_mols = Chem.SDMolSupplier('chembl_30.sdf')\n",
    "\n",
    "# sample 5000 random molecules with a constant seed for reproducibility\n",
    "random.seed(42)\n",
    "\n",
    "total_molecules = 2136187\n",
    "\n",
    "benchmark_set_indexes = random.sample(range(1, total_molecules), 5000)\n",
    "\n",
    "for index in benchmark_set_indexes:\n",
    "    benchmark_molecules.append(chembl_mols[index])"
   ]
  },
  {
   "cell_type": "markdown",
   "metadata": {},
   "source": [
    "Then for each fingerprint, we can time three runs of fingerprinting this benchmark set:"
   ]
  },
  {
   "cell_type": "code",
   "execution_count": 39,
   "metadata": {},
   "outputs": [],
   "source": [
    "def time_fingerprint(fingerprint, radius):\n",
    "    seconds = list()\n",
    "    for i in range(3):\n",
    "        start = time.time()\n",
    "        if radius is None:\n",
    "            fingerprints = [fingerprint(mol) for mol in benchmark_molecules]\n",
    "        else:\n",
    "            fingerprints = [fingerprint(mol, radius) for mol in benchmark_molecules]\n",
    "        end = time.time()\n",
    "        run_time = end - start\n",
    "        seconds.append(run_time)\n",
    "    return seconds\n",
    "\n",
    "times = dict()"
   ]
  },
  {
   "cell_type": "markdown",
   "metadata": {},
   "source": [
    "#### RDKit Fingerprints:"
   ]
  },
  {
   "cell_type": "code",
   "execution_count": 40,
   "metadata": {},
   "outputs": [],
   "source": [
    "times['RDKit'] = time_fingerprint(Chem.RDKFingerprint, None)"
   ]
  },
  {
   "cell_type": "markdown",
   "metadata": {},
   "source": [
    "#### Atom Pair Fingerprints:"
   ]
  },
  {
   "cell_type": "code",
   "execution_count": 41,
   "metadata": {},
   "outputs": [],
   "source": [
    "from rdkit.Chem.AtomPairs import Pairs\n",
    "times['AtomPair']= time_fingerprint(Pairs.GetAtomPairFingerprint, None)"
   ]
  },
  {
   "cell_type": "markdown",
   "metadata": {},
   "source": [
    "#### Topological Torsion Fingerprints:"
   ]
  },
  {
   "cell_type": "code",
   "execution_count": 42,
   "metadata": {},
   "outputs": [],
   "source": [
    "from rdkit.Chem.AtomPairs import Torsions\n",
    "times['Torsions'] = time_fingerprint(Torsions.GetTopologicalTorsionFingerprintAsIntVect, None)"
   ]
  },
  {
   "cell_type": "markdown",
   "metadata": {},
   "source": [
    "#### Morgan Fingerprints:"
   ]
  },
  {
   "cell_type": "code",
   "execution_count": 43,
   "metadata": {},
   "outputs": [],
   "source": [
    "from rdkit.Chem import AllChem\n",
    "times['Morgan'] = time_fingerprint(AllChem.GetMorganFingerprint, 2)"
   ]
  },
  {
   "cell_type": "markdown",
   "metadata": {},
   "source": [
    "#### MACCS Fingerprints:"
   ]
  },
  {
   "cell_type": "code",
   "execution_count": 48,
   "metadata": {},
   "outputs": [],
   "source": [
    "from rdkit.Chem import MACCSkeys\n",
    "times['MACCS'] = time_fingerprint(MACCSkeys.GenMACCSKeys, None)"
   ]
  },
  {
   "cell_type": "markdown",
   "metadata": {},
   "source": [
    "#### ErG Fingerprints:"
   ]
  },
  {
   "cell_type": "code",
   "execution_count": 50,
   "metadata": {},
   "outputs": [],
   "source": [
    "from rdkit.Chem import rdReducedGraphs\n",
    "times['ERG'] = time_fingerprint(rdReducedGraphs.GetErGFingerprint, None)"
   ]
  },
  {
   "cell_type": "markdown",
   "metadata": {},
   "source": [
    "#### Pattern Fingerprints:"
   ]
  },
  {
   "cell_type": "code",
   "execution_count": 51,
   "metadata": {},
   "outputs": [],
   "source": [
    "from rdkit.Chem import rdmolops\n",
    "times['Pattern'] = time_fingerprint(rdmolops.PatternFingerprint, None)"
   ]
  },
  {
   "cell_type": "markdown",
   "metadata": {},
   "source": [
    "So let's see how they all compare:"
   ]
  },
  {
   "cell_type": "code",
   "execution_count": 95,
   "metadata": {},
   "outputs": [
    {
     "data": {
      "image/png": "[encoded data removed]",
      "text/plain": [
       "<Figure size 432x288 with 1 Axes>"
      ]
     },
     "metadata": {
      "needs_background": "light"
     },
     "output_type": "display_data"
    }
   ],
   "source": [
    "import numpy as np\n",
    "import matplotlib.pyplot as plt\n",
    "\n",
    "arrays = [np.asarray(v) for v in times.values()]\n",
    "means = [np.mean(a) for a in arrays]\n",
    "s_means = np.sort(means)\n",
    "sort_indexes = [np.where(mean == means)[0][0] for mean in s_means]\n",
    "stds = [np.std(arrays[i]) for i in sort_indexes]\n",
    "labels = [list(times.keys())[i] for i in sort_indexes]\n",
    "\n",
    "fig, ax = plt.subplots()\n",
    "ax.bar(x_pos, s_means, yerr=stds, align='center', alpha=0.5, ecolor='black', capsize=10)\n",
    "ax.set_ylabel('Seconds taken for 5000 molecules')\n",
    "ax.set_xticks(x_pos)\n",
    "ax.set_xticklabels(labels)\n",
    "ax.yaxis.grid(True)\n",
    "\n",
    "# Save the figure and show\n",
    "plt.savefig('fingerprint_benchmark.png', dpi=400)"
   ]
  },
  {
   "cell_type": "markdown",
   "metadata": {},
   "source": []
  }
 ],
 "metadata": {
  "kernelspec": {
   "display_name": "Python 3",
   "language": "python",
   "name": "python3"
  },
  "language_info": {
   "codemirror_mode": {
    "name": "ipython",
    "version": 3
   },
   "file_extension": ".py",
   "mimetype": "text/x-python",
   "name": "python",
   "nbconvert_exporter": "python",
   "pygments_lexer": "ipython3",
   "version": "3.8.5"
  }
 },
 "nbformat": 4,
 "nbformat_minor": 4
}
